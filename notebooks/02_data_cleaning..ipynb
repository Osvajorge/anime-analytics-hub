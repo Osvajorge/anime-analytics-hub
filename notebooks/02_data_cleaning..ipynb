{
 "cells": [
  {
   "cell_type": "code",
   "execution_count": 1,
   "id": "eacf00de",
   "metadata": {},
   "outputs": [
    {
     "name": "stdout",
     "output_type": "stream",
     "text": [
      "Libraries imported successfully!\n"
     ]
    }
   ],
   "source": [
    "#Import libraries for data cleaning\n",
    "import pandas as pd\n",
    "import numpy as np\n",
    "import warnings\n",
    "from datetime import datetime\n",
    "\n",
    "warnings.filterwarnings('ignore')\n",
    "pd.set_option('display.max_columns', None)\n",
    "\n",
    "print(\"Libraries imported successfully!\")"
   ]
  },
  {
   "cell_type": "code",
   "execution_count": 2,
   "id": "908666bb",
   "metadata": {},
   "outputs": [
    {
     "name": "stdout",
     "output_type": "stream",
     "text": [
      "Raw dataset shape: (2500, 8)\n",
      "Columns: ['title', 'genre', 'studio', 'number_of_episodes', 'release_date', 'content_type', 'viewer_reviews', 'source']\n"
     ]
    }
   ],
   "source": [
    "# Cell 2: Load raw data\n",
    "df = pd.read_csv('../data/raw/New_Anime_list.csv', index_col=0)\n",
    "df['release_date'] = pd.to_datetime(df['release_date'], errors='coerce')\n",
    "\n",
    "print(f\"Raw dataset shape: {df.shape}\")\n",
    "print(f\"Columns: {df.columns.tolist()}\")"
   ]
  },
  {
   "cell_type": "code",
   "execution_count": 3,
   "id": "0abc341f",
   "metadata": {},
   "outputs": [
    {
     "name": "stdout",
     "output_type": "stream",
     "text": [
      "DATA QUALITY SUMMARY\n",
      "------------------------------\n",
      "Missing values: 17\n",
      "Zero episodes: 33\n",
      "Zero reviews: 34\n",
      "Missing dates: 17\n"
     ]
    }
   ],
   "source": [
    "# Cell 3: Quick data quality check\n",
    "print(\"DATA QUALITY SUMMARY\")\n",
    "print(\"-\" * 30)\n",
    "print(f\"Missing values: {df.isnull().sum().sum()}\")\n",
    "print(f\"Zero episodes: {(df['number_of_episodes'] == 0).sum()}\")\n",
    "print(f\"Zero reviews: {(df['viewer_reviews'] == 0).sum()}\")\n",
    "print(f\"Missing dates: {df['release_date'].isna().sum()}\")"
   ]
  },
  {
   "cell_type": "code",
   "execution_count": 4,
   "id": "6b4e27ed",
   "metadata": {},
   "outputs": [
    {
     "name": "stdout",
     "output_type": "stream",
     "text": [
      "DATASET SEGMENTATION\n",
      "------------------------------\n",
      "Content types:\n",
      "content_type\n",
      "Tv          1755\n",
      "Movie        316\n",
      "Ova          181\n",
      "Ona          127\n",
      "Special       62\n",
      "Tv Short      56\n",
      "Music          2\n",
      "Unknown        1\n",
      "Name: count, dtype: int64\n",
      "\n",
      "Temporal distribution:\n",
      "Past/current (2025 or before): 2481\n",
      "Future (after 2025): 2\n",
      "\n",
      "Classification:\n",
      "Movies: 455\n",
      "Series: 2010\n",
      "Ambiguous: 41\n"
     ]
    }
   ],
   "source": [
    "# Dataset segmentation analysis\n",
    "print(\"DATASET SEGMENTATION\")\n",
    "print(\"-\" * 30)\n",
    "\n",
    "# Content type distribution\n",
    "print(\"Content types:\")\n",
    "print(df['content_type'].value_counts())\n",
    "\n",
    "# Temporal analysis\n",
    "current_year = 2025\n",
    "df['year'] = df['release_date'].dt.year\n",
    "print(f\"\\nTemporal distribution:\")\n",
    "print(f\"Past/current ({current_year} or before): {(df['year'] <= current_year).sum()}\")\n",
    "print(f\"Future (after {current_year}): {(df['year'] > current_year).sum()}\")\n",
    "\n",
    "# Movie vs Series classification\n",
    "movies_mask = (df['content_type'] == 'Movie') | \\\n",
    "              ((df['number_of_episodes'] == 1) & (df['content_type'].isin(['Special', 'Ova'])))\n",
    "series_mask = df['number_of_episodes'] > 1\n",
    "ambiguous_mask = ~movies_mask & ~series_mask\n",
    "\n",
    "print(f\"\\nClassification:\")\n",
    "print(f\"Movies: {movies_mask.sum()}\")\n",
    "print(f\"Series: {series_mask.sum()}\")\n",
    "print(f\"Ambiguous: {ambiguous_mask.sum()}\")"
   ]
  },
  {
   "cell_type": "code",
   "execution_count": 5,
   "id": "16471327",
   "metadata": {},
   "outputs": [
    {
     "name": "stdout",
     "output_type": "stream",
     "text": [
      "CLEAN DATASETS CREATED\n",
      "------------------------------\n",
      "Original: 2500 rows\n",
      "Clean: 2460 rows (98.4%)\n",
      "Movies: 448 (18.2% of clean)\n",
      "Series: 2009 (81.7% of clean)\n",
      "\n",
      "Warning: 5 entries appear in both movies and series\n",
      "\n",
      "Datasets saved to processed folder\n"
     ]
    }
   ],
   "source": [
    "#Create clean datasets\n",
    "\n",
    "# Step 1: Remove problematic data\n",
    "df_clean = df[\n",
    "    (df['number_of_episodes'] > 0) &      # Remove 0 episodes\n",
    "    (df['release_date'].notna()) &        # Remove missing dates\n",
    "    (df['viewer_reviews'] > 0)             # Remove 0 reviews\n",
    "].copy()\n",
    "\n",
    "# Step 2: Identify movies (including special formats)\n",
    "is_movie = df_clean['content_type'] == 'Movie'\n",
    "is_single_episode_special = (\n",
    "    (df_clean['number_of_episodes'] == 1) & \n",
    "    (df_clean['content_type'].isin(['Special', 'Ova']))\n",
    ")\n",
    "df_movies = df_clean[is_movie | is_single_episode_special].copy()\n",
    "\n",
    "# Step 3: Identify series (more than 1 episode)\n",
    "df_series = df_clean[df_clean['number_of_episodes'] > 1].copy()\n",
    "\n",
    "# Summary\n",
    "print(\"CLEAN DATASETS CREATED\")\n",
    "print(\"-\" * 30)\n",
    "print(f\"Original: {len(df)} rows\")\n",
    "print(f\"Clean: {len(df_clean)} rows ({len(df_clean)/len(df)*100:.1f}%)\")\n",
    "print(f\"Movies: {len(df_movies)} ({len(df_movies)/len(df_clean)*100:.1f}% of clean)\")\n",
    "print(f\"Series: {len(df_series)} ({len(df_series)/len(df_clean)*100:.1f}% of clean)\")\n",
    "\n",
    "# Check overlap\n",
    "overlap = set(df_movies.index) & set(df_series.index)\n",
    "if overlap:\n",
    "    print(f\"\\nWarning: {len(overlap)} entries appear in both movies and series\")\n",
    "\n",
    "# Save datasets\n",
    "df_clean.to_csv('../data/processed/anime_clean.csv')\n",
    "df_movies.to_csv('../data/processed/anime_movies.csv')\n",
    "df_series.to_csv('../data/processed/anime_series.csv')\n",
    "print(\"\\nDatasets saved to processed folder\")"
   ]
  }
 ],
 "metadata": {
  "kernelspec": {
   "display_name": "venv",
   "language": "python",
   "name": "python3"
  },
  "language_info": {
   "codemirror_mode": {
    "name": "ipython",
    "version": 3
   },
   "file_extension": ".py",
   "mimetype": "text/x-python",
   "name": "python",
   "nbconvert_exporter": "python",
   "pygments_lexer": "ipython3",
   "version": "3.10.12"
  }
 },
 "nbformat": 4,
 "nbformat_minor": 5
}
