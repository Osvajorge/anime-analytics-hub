{
 "cells": [
  {
   "cell_type": "code",
   "execution_count": 13,
   "id": "fded2c69",
   "metadata": {},
   "outputs": [
    {
     "name": "stdout",
     "output_type": "stream",
     "text": [
      "Libraries imported successfully!\n"
     ]
    }
   ],
   "source": [
    "#Import libraries\n",
    "import pandas as pd\n",
    "import numpy as np\n",
    "import matplotlib.pyplot as plt\n",
    "import seaborn as sns\n",
    "import warnings\n",
    "from datetime import datetime\n",
    "\n",
    "warnings.filterwarnings('ignore')\n",
    "pd.set_option('display.max_columns', None)\n",
    "pd.set_option('display.max_rows', 100)\n",
    "plt.style.use('seaborn-v0_8-darkgrid')\n",
    "\n",
    "print(\"Libraries imported successfully!\")"
   ]
  },
  {
   "cell_type": "code",
   "execution_count": 14,
   "id": "a3efc6a6",
   "metadata": {},
   "outputs": [
    {
     "name": "stdout",
     "output_type": "stream",
     "text": [
      "Dataset shape: (2500, 8)\n",
      "Columns: ['title', 'genre', 'studio', 'number_of_episodes', 'release_date', 'content_type', 'viewer_reviews', 'source']\n"
     ]
    }
   ],
   "source": [
    "#Load dataset\n",
    "df = pd.read_csv('../data/raw/New_Anime_list.csv', index_col=0)\n",
    "df['release_date'] = pd.to_datetime(df['release_date'], errors='coerce')\n",
    "\n",
    "print(f\"Dataset shape: {df.shape}\")\n",
    "print(f\"Columns: {df.columns.tolist()}\")"
   ]
  },
  {
   "cell_type": "code",
   "execution_count": 15,
   "id": "854960d0",
   "metadata": {},
   "outputs": [
    {
     "data": {
      "text/html": [
       "<div>\n",
       "<style scoped>\n",
       "    .dataframe tbody tr th:only-of-type {\n",
       "        vertical-align: middle;\n",
       "    }\n",
       "\n",
       "    .dataframe tbody tr th {\n",
       "        vertical-align: top;\n",
       "    }\n",
       "\n",
       "    .dataframe thead th {\n",
       "        text-align: right;\n",
       "    }\n",
       "</style>\n",
       "<table border=\"1\" class=\"dataframe\">\n",
       "  <thead>\n",
       "    <tr style=\"text-align: right;\">\n",
       "      <th></th>\n",
       "      <th>title</th>\n",
       "      <th>genre</th>\n",
       "      <th>studio</th>\n",
       "      <th>number_of_episodes</th>\n",
       "      <th>release_date</th>\n",
       "      <th>content_type</th>\n",
       "      <th>viewer_reviews</th>\n",
       "      <th>source</th>\n",
       "    </tr>\n",
       "  </thead>\n",
       "  <tbody>\n",
       "    <tr>\n",
       "      <th>0</th>\n",
       "      <td>Attack on Titan</td>\n",
       "      <td>Action, Drama, Fantasy, Mystery</td>\n",
       "      <td>WIT STUDIO</td>\n",
       "      <td>25</td>\n",
       "      <td>2013-04-01</td>\n",
       "      <td>Tv</td>\n",
       "      <td>84.0</td>\n",
       "      <td>AniList</td>\n",
       "    </tr>\n",
       "    <tr>\n",
       "      <th>1</th>\n",
       "      <td>Demon Slayer: Kimetsu no Yaiba</td>\n",
       "      <td>Action, Adventure, Drama, Fantasy, Supernatural</td>\n",
       "      <td>ufotable</td>\n",
       "      <td>26</td>\n",
       "      <td>2019-04-01</td>\n",
       "      <td>Tv</td>\n",
       "      <td>82.0</td>\n",
       "      <td>AniList</td>\n",
       "    </tr>\n",
       "    <tr>\n",
       "      <th>2</th>\n",
       "      <td>Death Note</td>\n",
       "      <td>Mystery, Psychological, Supernatural, Thriller</td>\n",
       "      <td>MADHOUSE</td>\n",
       "      <td>37</td>\n",
       "      <td>2006-10-01</td>\n",
       "      <td>Tv</td>\n",
       "      <td>84.0</td>\n",
       "      <td>AniList</td>\n",
       "    </tr>\n",
       "    <tr>\n",
       "      <th>3</th>\n",
       "      <td>JUJUTSU KAISEN</td>\n",
       "      <td>Action, Drama, Supernatural</td>\n",
       "      <td>Toho</td>\n",
       "      <td>24</td>\n",
       "      <td>2020-10-01</td>\n",
       "      <td>Tv</td>\n",
       "      <td>85.0</td>\n",
       "      <td>AniList</td>\n",
       "    </tr>\n",
       "    <tr>\n",
       "      <th>4</th>\n",
       "      <td>My Hero Academia</td>\n",
       "      <td>Action, Adventure, Comedy</td>\n",
       "      <td>bones</td>\n",
       "      <td>13</td>\n",
       "      <td>2016-04-01</td>\n",
       "      <td>Tv</td>\n",
       "      <td>76.0</td>\n",
       "      <td>AniList</td>\n",
       "    </tr>\n",
       "  </tbody>\n",
       "</table>\n",
       "</div>"
      ],
      "text/plain": [
       "                            title  \\\n",
       "0                 Attack on Titan   \n",
       "1  Demon Slayer: Kimetsu no Yaiba   \n",
       "2                      Death Note   \n",
       "3                  JUJUTSU KAISEN   \n",
       "4                My Hero Academia   \n",
       "\n",
       "                                             genre      studio  \\\n",
       "0                  Action, Drama, Fantasy, Mystery  WIT STUDIO   \n",
       "1  Action, Adventure, Drama, Fantasy, Supernatural    ufotable   \n",
       "2   Mystery, Psychological, Supernatural, Thriller    MADHOUSE   \n",
       "3                      Action, Drama, Supernatural        Toho   \n",
       "4                        Action, Adventure, Comedy       bones   \n",
       "\n",
       "   number_of_episodes release_date content_type  viewer_reviews   source  \n",
       "0                  25   2013-04-01           Tv            84.0  AniList  \n",
       "1                  26   2019-04-01           Tv            82.0  AniList  \n",
       "2                  37   2006-10-01           Tv            84.0  AniList  \n",
       "3                  24   2020-10-01           Tv            85.0  AniList  \n",
       "4                  13   2016-04-01           Tv            76.0  AniList  "
      ]
     },
     "execution_count": 15,
     "metadata": {},
     "output_type": "execute_result"
    }
   ],
   "source": [
    "# Display basic info\n",
    "df.head()"
   ]
  },
  {
   "cell_type": "code",
   "execution_count": 16,
   "id": "d04e3058",
   "metadata": {},
   "outputs": [
    {
     "name": "stdout",
     "output_type": "stream",
     "text": [
      "<class 'pandas.core.frame.DataFrame'>\n",
      "Index: 2500 entries, 0 to 2499\n",
      "Data columns (total 8 columns):\n",
      " #   Column              Non-Null Count  Dtype         \n",
      "---  ------              --------------  -----         \n",
      " 0   title               2500 non-null   object        \n",
      " 1   genre               2500 non-null   object        \n",
      " 2   studio              2500 non-null   object        \n",
      " 3   number_of_episodes  2500 non-null   int64         \n",
      " 4   release_date        2483 non-null   datetime64[ns]\n",
      " 5   content_type        2500 non-null   object        \n",
      " 6   viewer_reviews      2500 non-null   float64       \n",
      " 7   source              2500 non-null   object        \n",
      "dtypes: datetime64[ns](1), float64(1), int64(1), object(5)\n",
      "memory usage: 175.8+ KB\n"
     ]
    }
   ],
   "source": [
    "#Data overview\n",
    "df.info()"
   ]
  },
  {
   "cell_type": "code",
   "execution_count": 17,
   "id": "436b0496",
   "metadata": {},
   "outputs": [
    {
     "data": {
      "text/html": [
       "<div>\n",
       "<style scoped>\n",
       "    .dataframe tbody tr th:only-of-type {\n",
       "        vertical-align: middle;\n",
       "    }\n",
       "\n",
       "    .dataframe tbody tr th {\n",
       "        vertical-align: top;\n",
       "    }\n",
       "\n",
       "    .dataframe thead th {\n",
       "        text-align: right;\n",
       "    }\n",
       "</style>\n",
       "<table border=\"1\" class=\"dataframe\">\n",
       "  <thead>\n",
       "    <tr style=\"text-align: right;\">\n",
       "      <th></th>\n",
       "      <th>number_of_episodes</th>\n",
       "      <th>release_date</th>\n",
       "      <th>viewer_reviews</th>\n",
       "    </tr>\n",
       "  </thead>\n",
       "  <tbody>\n",
       "    <tr>\n",
       "      <th>count</th>\n",
       "      <td>2500.00000</td>\n",
       "      <td>2483</td>\n",
       "      <td>2500.000000</td>\n",
       "    </tr>\n",
       "    <tr>\n",
       "      <th>mean</th>\n",
       "      <td>15.23040</td>\n",
       "      <td>2015-08-18 06:47:07.225131008</td>\n",
       "      <td>70.953600</td>\n",
       "    </tr>\n",
       "    <tr>\n",
       "      <th>min</th>\n",
       "      <td>0.00000</td>\n",
       "      <td>1970-04-01 00:00:00</td>\n",
       "      <td>0.000000</td>\n",
       "    </tr>\n",
       "    <tr>\n",
       "      <th>25%</th>\n",
       "      <td>8.00000</td>\n",
       "      <td>2012-03-16 12:00:00</td>\n",
       "      <td>67.000000</td>\n",
       "    </tr>\n",
       "    <tr>\n",
       "      <th>50%</th>\n",
       "      <td>12.00000</td>\n",
       "      <td>2016-10-01 00:00:00</td>\n",
       "      <td>72.000000</td>\n",
       "    </tr>\n",
       "    <tr>\n",
       "      <th>75%</th>\n",
       "      <td>13.00000</td>\n",
       "      <td>2021-04-01 00:00:00</td>\n",
       "      <td>77.000000</td>\n",
       "    </tr>\n",
       "    <tr>\n",
       "      <th>max</th>\n",
       "      <td>1000.00000</td>\n",
       "      <td>2026-01-01 00:00:00</td>\n",
       "      <td>91.000000</td>\n",
       "    </tr>\n",
       "    <tr>\n",
       "      <th>std</th>\n",
       "      <td>31.41517</td>\n",
       "      <td>NaN</td>\n",
       "      <td>11.399133</td>\n",
       "    </tr>\n",
       "  </tbody>\n",
       "</table>\n",
       "</div>"
      ],
      "text/plain": [
       "       number_of_episodes                   release_date  viewer_reviews\n",
       "count          2500.00000                           2483     2500.000000\n",
       "mean             15.23040  2015-08-18 06:47:07.225131008       70.953600\n",
       "min               0.00000            1970-04-01 00:00:00        0.000000\n",
       "25%               8.00000            2012-03-16 12:00:00       67.000000\n",
       "50%              12.00000            2016-10-01 00:00:00       72.000000\n",
       "75%              13.00000            2021-04-01 00:00:00       77.000000\n",
       "max            1000.00000            2026-01-01 00:00:00       91.000000\n",
       "std              31.41517                            NaN       11.399133"
      ]
     },
     "execution_count": 17,
     "metadata": {},
     "output_type": "execute_result"
    }
   ],
   "source": [
    "#Get statistical summary \n",
    "df.describe()"
   ]
  },
  {
   "cell_type": "code",
   "execution_count": 18,
   "id": "b7d262aa",
   "metadata": {},
   "outputs": [
    {
     "data": {
      "text/html": [
       "<div>\n",
       "<style scoped>\n",
       "    .dataframe tbody tr th:only-of-type {\n",
       "        vertical-align: middle;\n",
       "    }\n",
       "\n",
       "    .dataframe tbody tr th {\n",
       "        vertical-align: top;\n",
       "    }\n",
       "\n",
       "    .dataframe thead th {\n",
       "        text-align: right;\n",
       "    }\n",
       "</style>\n",
       "<table border=\"1\" class=\"dataframe\">\n",
       "  <thead>\n",
       "    <tr style=\"text-align: right;\">\n",
       "      <th></th>\n",
       "      <th>Missing_Count</th>\n",
       "      <th>Percentage</th>\n",
       "    </tr>\n",
       "  </thead>\n",
       "  <tbody>\n",
       "    <tr>\n",
       "      <th>release_date</th>\n",
       "      <td>17</td>\n",
       "      <td>0.68</td>\n",
       "    </tr>\n",
       "  </tbody>\n",
       "</table>\n",
       "</div>"
      ],
      "text/plain": [
       "              Missing_Count  Percentage\n",
       "release_date             17        0.68"
      ]
     },
     "execution_count": 18,
     "metadata": {},
     "output_type": "execute_result"
    }
   ],
   "source": [
    "#Check missing values\n",
    "missing_summary = pd.DataFrame({\n",
    "    'Missing_Count': df.isnull().sum(),\n",
    "    'Percentage': (df.isnull().sum() / len(df) * 100).round(2)\n",
    "})\n",
    "missing_summary[missing_summary['Missing_Count'] > 0]"
   ]
  },
  {
   "cell_type": "code",
   "execution_count": 19,
   "id": "f2351107",
   "metadata": {},
   "outputs": [
    {
     "name": "stdout",
     "output_type": "stream",
     "text": [
      "VIEWER REVIEWS ANALYSIS\n",
      "------------------------------\n",
      "Range: 0.0 - 91.0\n",
      "Mean: 70.95\n",
      "Negative reviews: 0\n",
      "Reviews > 100: 0\n"
     ]
    }
   ],
   "source": [
    "# Analyze viewer reviews\n",
    "print(\"VIEWER REVIEWS ANALYSIS\")\n",
    "print(\"-\" * 30)\n",
    "print(f\"Range: {df['viewer_reviews'].min():.1f} - {df['viewer_reviews'].max():.1f}\")\n",
    "print(f\"Mean: {df['viewer_reviews'].mean():.2f}\")\n",
    "print(f\"Negative reviews: {(df['viewer_reviews'] < 0).sum()}\")\n",
    "print(f\"Reviews > 100: {(df['viewer_reviews'] > 100).sum()}\")\n"
   ]
  },
  {
   "cell_type": "code",
   "execution_count": 20,
   "id": "1a4011e0",
   "metadata": {},
   "outputs": [
    {
     "data": {
      "image/png": "[encoded data removed]",
      "text/plain": [
       "<Figure size 1200x500 with 2 Axes>"
      ]
     },
     "metadata": {},
     "output_type": "display_data"
    }
   ],
   "source": [
    "# Visualize viewer reviews distribution\n",
    "fig, (ax1, ax2) = plt.subplots(1, 2, figsize=(12, 5))\n",
    "\n",
    "# Histogram\n",
    "ax1.set_title('Distribution of Viewer Reviews')\n",
    "sns.histplot(data=df, x='viewer_reviews', bins=50, ax=ax1)\n",
    "ax1.set_xlabel('Rating')\n",
    "\n",
    "# Boxplot\n",
    "ax2.set_title('Viewer Reviews Boxplot')\n",
    "sns.boxplot(data=df, y='viewer_reviews', ax=ax2)\n",
    "ax2.set_ylabel('Rating')\n",
    "\n",
    "plt.tight_layout()\n",
    "plt.show()"
   ]
  },
  {
   "cell_type": "code",
   "execution_count": 21,
   "id": "f6d51e1e",
   "metadata": {},
   "outputs": [
    {
     "name": "stdout",
     "output_type": "stream",
     "text": [
      "DATA QUALITY ISSUES\n",
      "------------------------------\n",
      "Animes with 0 episodes: 33\n",
      "Content types: {'Tv': 32, 'Unknown': 1}\n",
      "\n",
      "Animes with 0 reviews: 34\n",
      "\n",
      "Missing dates (NaT): 17\n",
      "\n",
      "Animes with BOTH 0 episodes AND 0 reviews: 29\n"
     ]
    }
   ],
   "source": [
    "# Analyze problematic data\n",
    "print(\"DATA QUALITY ISSUES\")\n",
    "print(\"-\" * 30)\n",
    "\n",
    "# Zero episodes analysis\n",
    "zero_episodes = df[df['number_of_episodes'] == 0]\n",
    "print(f\"Animes with 0 episodes: {len(zero_episodes)}\")\n",
    "print(f\"Content types: {zero_episodes['content_type'].value_counts().to_dict()}\")\n",
    "\n",
    "# Zero reviews analysis\n",
    "zero_reviews = df[df['viewer_reviews'] == 0]\n",
    "print(f\"\\nAnimes with 0 reviews: {len(zero_reviews)}\")\n",
    "\n",
    "# Date issues\n",
    "print(f\"\\nMissing dates (NaT): {df['release_date'].isna().sum()}\")\n",
    "\n",
    "# Correlation between issues\n",
    "both_zero = df[(df['number_of_episodes'] == 0) & (df['viewer_reviews'] == 0)]\n",
    "print(f\"\\nAnimes with BOTH 0 episodes AND 0 reviews: {len(both_zero)}\")"
   ]
  },
  {
   "cell_type": "code",
   "execution_count": 22,
   "id": "5136b727",
   "metadata": {},
   "outputs": [
    {
     "name": "stdout",
     "output_type": "stream",
     "text": [
      "TV shows with 0 episodes: 32\n",
      "\n",
      "Year distribution:\n",
      "release_date\n",
      "1996.0     1\n",
      "2025.0    18\n",
      "2026.0     2\n",
      "Name: count, dtype: int64\n",
      "\n",
      "Examples:\n",
      "                             title release_date  viewer_reviews  \\\n",
      "877                One Punch Man 3   2025-10-01             0.0   \n",
      "880            DAN DA DAN Season 2   2025-07-01             0.0   \n",
      "899                    Case Closed   1996-01-01            81.0   \n",
      "1079  My Dress-Up Darling Season 2   2025-07-01             0.0   \n",
      "1142          Kaiju No. 8 Season 2   2025-07-01             0.0   \n",
      "\n",
      "                 studio  \n",
      "877            Shueisha  \n",
      "880        Science SARU  \n",
      "899   TMS Entertainment  \n",
      "1079            Aniplex  \n",
      "1142           Shueisha  \n"
     ]
    }
   ],
   "source": [
    "#Investigate TV shows with 0 episodes\n",
    "tv_zero_episodes = df[(df['number_of_episodes'] == 0) & (df['content_type'] == 'Tv')]\n",
    "\n",
    "if len(tv_zero_episodes) > 0:\n",
    "    print(f\"TV shows with 0 episodes: {len(tv_zero_episodes)}\")\n",
    "    print(\"\\nYear distribution:\")\n",
    "    print(tv_zero_episodes['release_date'].dt.year.value_counts().sort_index())\n",
    "    \n",
    "    print(\"\\nExamples:\")\n",
    "    print(tv_zero_episodes[['title', 'release_date', 'viewer_reviews', 'studio']].head())"
   ]
  }
 ],
 "metadata": {
  "kernelspec": {
   "display_name": "venv",
   "language": "python",
   "name": "python3"
  },
  "language_info": {
   "codemirror_mode": {
    "name": "ipython",
    "version": 3
   },
   "file_extension": ".py",
   "mimetype": "text/x-python",
   "name": "python",
   "nbconvert_exporter": "python",
   "pygments_lexer": "ipython3",
   "version": "3.10.12"
  }
 },
 "nbformat": 4,
 "nbformat_minor": 5
}
